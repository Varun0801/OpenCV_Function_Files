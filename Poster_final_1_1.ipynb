{
  "nbformat": 4,
  "nbformat_minor": 0,
  "metadata": {
    "colab": {
      "name": "Poster_final_1.1.ipynb",
      "provenance": [],
      "authorship_tag": "ABX9TyNUaSGea0ZcpEQh62q3HX2Q",
      "include_colab_link": true
    },
    "kernelspec": {
      "name": "python3",
      "display_name": "Python 3"
    }
  },
  "cells": [
    {
      "cell_type": "markdown",
      "metadata": {
        "id": "view-in-github",
        "colab_type": "text"
      },
      "source": [
        "<a href=\"https://colab.research.google.com/github/Varun0801/OpenCV_Function_Files/blob/master/Poster_final_1_1.ipynb\" target=\"_parent\"><img src=\"https://colab.research.google.com/assets/colab-badge.svg\" alt=\"Open In Colab\"/></a>"
      ]
    },
    {
      "cell_type": "code",
      "metadata": {
        "id": "cfIW_2DROXvx",
        "colab_type": "code",
        "colab": {}
      },
      "source": [
        "import PIL\n",
        "from PIL import ImageFont\n",
        "from PIL import Image\n",
        "from PIL import ImageDraw\n",
        "import matplotlib.pyplot as plt\n",
        "from google.colab import drive\n",
        "from google.colab.patches import cv2_imshow\n",
        "from google.colab import output\n",
        "import os\n",
        "import pandas as pd\n",
        "import string"
      ],
      "execution_count": 14,
      "outputs": []
    },
    {
      "cell_type": "code",
      "metadata": {
        "id": "EKV6zcNjOkuy",
        "colab_type": "code",
        "colab": {
          "base_uri": "https://localhost:8080/",
          "height": 34
        },
        "outputId": "9d13184a-5346-4033-efc5-edd1335519ca"
      },
      "source": [
        "from google.colab import drive\n",
        "drive.mount('/content/drive')"
      ],
      "execution_count": 15,
      "outputs": [
        {
          "output_type": "stream",
          "text": [
            "Drive already mounted at /content/drive; to attempt to forcibly remount, call drive.mount(\"/content/drive\", force_remount=True).\n"
          ],
          "name": "stdout"
        }
      ]
    },
    {
      "cell_type": "code",
      "metadata": {
        "id": "1C4pzlA1PwW3",
        "colab_type": "code",
        "colab": {
          "base_uri": "https://localhost:8080/",
          "height": 50
        },
        "outputId": "364b4fb8-8968-4425-f512-ce7c7c62a6b9"
      },
      "source": [
        "cd drive/My\\ Drive/Poster1"
      ],
      "execution_count": 16,
      "outputs": [
        {
          "output_type": "stream",
          "text": [
            "[Errno 2] No such file or directory: 'drive/My Drive/Poster1'\n",
            "/content/drive/My Drive/Poster1\n"
          ],
          "name": "stdout"
        }
      ]
    },
    {
      "cell_type": "code",
      "metadata": {
        "id": "9-eYpEKQQDcO",
        "colab_type": "code",
        "colab": {
          "base_uri": "https://localhost:8080/",
          "height": 722
        },
        "outputId": "a5ac649c-831a-4e3a-84b6-dd93baea31f9"
      },
      "source": [
        "df=pd.read_csv('final_2 - final (1).csv')\n",
        "df.info()"
      ],
      "execution_count": 17,
      "outputs": [
        {
          "output_type": "stream",
          "text": [
            "<class 'pandas.core.frame.DataFrame'>\n",
            "RangeIndex: 1 entries, 0 to 0\n",
            "Data columns (total 35 columns):\n",
            " #   Column                  Non-Null Count  Dtype \n",
            "---  ------                  --------------  ----- \n",
            " 0   template image          1 non-null      object\n",
            " 1   food image              1 non-null      object\n",
            " 2   food_x                  1 non-null      int64 \n",
            " 3   food_y                  1 non-null      int64 \n",
            " 4   food_size               1 non-null      int64 \n",
            " 5   food_des                1 non-null      object\n",
            " 6   food_des_x              1 non-null      int64 \n",
            " 7   food_des_y              1 non-null      int64 \n",
            " 8   food_des_font           1 non-null      object\n",
            " 9   food_des_font_color     1 non-null      object\n",
            " 10  food_des_font_size      1 non-null      int64 \n",
            " 11  Offer_text1             1 non-null      object\n",
            " 12  Offer_text1_x           1 non-null      int64 \n",
            " 13  Offer_text1_y           1 non-null      int64 \n",
            " 14  Offer_text1_font        1 non-null      object\n",
            " 15  Offer_text1_font_color  1 non-null      object\n",
            " 16  Offer_text1_font_size   1 non-null      int64 \n",
            " 17  Offer_text2             1 non-null      object\n",
            " 18  Offer_text2_x           1 non-null      int64 \n",
            " 19  Offer_text2_y           1 non-null      int64 \n",
            " 20  Offer_text2_font        1 non-null      object\n",
            " 21  Offer_text2_font_color  1 non-null      object\n",
            " 22  Offer_text2_font_size   1 non-null      int64 \n",
            " 23  Offer_text3             1 non-null      object\n",
            " 24  Offer_text3_x           1 non-null      int64 \n",
            " 25  Offer_text3_y           1 non-null      int64 \n",
            " 26  Offer_text3_font        1 non-null      object\n",
            " 27  Offer_text3_font_color  1 non-null      object\n",
            " 28  Offer_text3_font_size   1 non-null      int64 \n",
            " 29  contact_us              1 non-null      object\n",
            " 30  contact_us_x            1 non-null      int64 \n",
            " 31  contact_us_y            1 non-null      int64 \n",
            " 32  contact_us_font         1 non-null      object\n",
            " 33  contact_us_font_color   1 non-null      object\n",
            " 34  contact_us_font_size    1 non-null      int64 \n",
            "dtypes: int64(18), object(17)\n",
            "memory usage: 408.0+ bytes\n"
          ],
          "name": "stdout"
        }
      ]
    },
    {
      "cell_type": "code",
      "metadata": {
        "id": "E_QRpiU8QLg1",
        "colab_type": "code",
        "colab": {}
      },
      "source": [
        "img = Image.open(df['template image'][0])\n",
        "draw = ImageDraw.Draw(img)\n",
        "\n",
        "def heading(image,Offer_text1,Offer_text1_x,Offer_text1_y,Offer_text1_font,Offer_text1_font_color,Offer_text1_font_size):\n",
        "  draw = ImageDraw.Draw(img)\n",
        "  font = ImageFont.truetype(Offer_text1_font, Offer_text1_font_size)\n",
        "\n",
        "  draw.text((Offer_text1_x, Offer_text1_y),Offer_text1, font=font,fill=Offer_text1_font_color)\n",
        "\n",
        "heading(img,df['Offer_text1'][0],df['Offer_text1_x'][0],df['Offer_text1_y'][0],df['Offer_text1_font'][0],df['Offer_text1_font_color'][0],df['Offer_text1_font_size'][0])\n",
        "\n",
        "def Offer_line1(image,Offer_text2,Offer_text2_x,Offer_text2_y,Offer_text2_font,Offer_text2_font_color,Offer_text2_font_size):\n",
        "  draw = ImageDraw.Draw(img)\n",
        "  font = ImageFont.truetype(Offer_text2_font,Offer_text2_font_size)\n",
        "  draw.text((Offer_text2_x, Offer_text2_y),Offer_text2, font=font,fill=Offer_text2_font_color)\n",
        "\n",
        "Offer_line1(img,df['Offer_text2'][0],df['Offer_text2_x'][0],df['Offer_text2_y'][0],df['Offer_text2_font'][0],df['Offer_text2_font_color'][0],df['Offer_text2_font_size'][0])\n",
        "\n",
        "def Offer_line2(image,food_des,food_des_x,food_des_y,food_des_font,food_des_font_color,food_des_font_size):\n",
        "  draw = ImageDraw.Draw(img)\n",
        "  font = ImageFont.truetype(food_des_font, food_des_font_size)\n",
        "  draw.text((food_des_x, food_des_y),food_des, font=font,fill=food_des_font_color)\n",
        "\n",
        "Offer_line2(img,df['food_des'][0],df['food_des_x'][0],df['food_des_y'][0],df['food_des_font'][0],df['food_des_font_color'][0],df['food_des_font_size'][0])\n",
        "\n",
        "img1 = Image.open(df['food image'][0])\n",
        "draw = ImageDraw.Draw(img)\n",
        "\n",
        "a = df['food_size'][0]\n",
        "size = (a,a)\n",
        "burger = img1.resize(size)\n",
        "\n",
        "def food_images_add(image,food_image,food_x,food_y):\n",
        "  img.paste(food_image, (food_x, food_y))   \n",
        "\n",
        "food_images_add(img,burger,df['food_x'][0],df['food_y'][0])\n",
        "\n",
        "def Offer_line3(image,Offer_text3,Offer_text3_x,Offer_text3_y,Offer_text3_font,Offer_text3_font_color,Offer_text3_font_size):\n",
        "  draw = ImageDraw.Draw(img)\n",
        "  font = ImageFont.truetype(Offer_text3_font, Offer_text3_font_size)\n",
        "  draw.text((Offer_text3_x, Offer_text3_y),Offer_text3, font=font,fill=Offer_text3_font_color)\n",
        "\n",
        "Offer_line3(img,df['Offer_text3'][0],df['Offer_text3_x'][0],df['Offer_text3_y'][0],df['Offer_text3_font'][0],df['Offer_text3_font_color'][0],df['Offer_text3_font_size'][0])\n",
        "\n",
        "def contact_details(image,contact_us,contact_us_x,contact_us_y,contact_us_font,contact_us_font_color,contact_us_font_size):\n",
        "  draw = ImageDraw.Draw(img)\n",
        "  font = ImageFont.truetype(contact_us_font, contact_us_font_size)\n",
        "  contact_us = \"Contact us:\"+ \"\\n\"+ \"096178 83305\"+\"\\n\" + \"Web: anshul@nanniz.com\" +\"\\n\"+\"Download our APP\"\n",
        "  draw.text((contact_us_x, contact_us_y),contact_us, font=font,fill=contact_us_font_color)\n",
        "\n",
        "contact_details(img,df['contact_us'][0],df['contact_us_x'][0],df['contact_us_y'][0],df['contact_us_font'][0],df['contact_us_font_color'][0],df['contact_us_font_size'][0])\n",
        "\n",
        "img.save(\"a_test2.png\")\n"
      ],
      "execution_count": 20,
      "outputs": []
    },
    {
      "cell_type": "code",
      "metadata": {
        "id": "nxkKDlWpW8S2",
        "colab_type": "code",
        "colab": {}
      },
      "source": [
        ""
      ],
      "execution_count": null,
      "outputs": []
    }
  ]
}