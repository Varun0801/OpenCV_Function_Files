{
  "nbformat": 4,
  "nbformat_minor": 0,
  "metadata": {
    "colab": {
      "name": "Poster_final_1.ipynb",
      "provenance": [],
      "authorship_tag": "ABX9TyMSWRNc46rQzO4jcL+OeKzz",
      "include_colab_link": true
    },
    "kernelspec": {
      "name": "python3",
      "display_name": "Python 3"
    }
  },
  "cells": [
    {
      "cell_type": "markdown",
      "metadata": {
        "id": "view-in-github",
        "colab_type": "text"
      },
      "source": [
        "<a href=\"https://colab.research.google.com/github/Varun0801/OpenCV_Function_Files/blob/master/Poster_final_1.ipynb\" target=\"_parent\"><img src=\"https://colab.research.google.com/assets/colab-badge.svg\" alt=\"Open In Colab\"/></a>"
      ]
    },
    {
      "cell_type": "code",
      "metadata": {
        "id": "rSq2A1Hh2k3L",
        "colab_type": "code",
        "colab": {}
      },
      "source": [
        "import PIL\n",
        "from PIL import ImageFont\n",
        "from PIL import Image\n",
        "from PIL import ImageDraw\n",
        "import matplotlib.pyplot as plt\n",
        "from google.colab import drive\n",
        "from google.colab.patches import cv2_imshow\n",
        "from google.colab import output\n",
        "import os\n",
        "import pandas as pd\n",
        "import string"
      ],
      "execution_count": 1,
      "outputs": []
    },
    {
      "cell_type": "code",
      "metadata": {
        "id": "Ry4RhTcW2oyV",
        "colab_type": "code",
        "colab": {
          "base_uri": "https://localhost:8080/",
          "height": 121
        },
        "outputId": "f280591e-973a-4bd6-c64a-71aedb47862c"
      },
      "source": [
        "from google.colab import drive\n",
        "drive.mount('/content/drive')"
      ],
      "execution_count": 2,
      "outputs": [
        {
          "output_type": "stream",
          "text": [
            "Go to this URL in a browser: https://accounts.google.com/o/oauth2/auth?client_id=947318989803-6bn6qk8qdgf4n4g3pfee6491hc0brc4i.apps.googleusercontent.com&redirect_uri=urn%3aietf%3awg%3aoauth%3a2.0%3aoob&response_type=code&scope=email%20https%3a%2f%2fwww.googleapis.com%2fauth%2fdocs.test%20https%3a%2f%2fwww.googleapis.com%2fauth%2fdrive%20https%3a%2f%2fwww.googleapis.com%2fauth%2fdrive.photos.readonly%20https%3a%2f%2fwww.googleapis.com%2fauth%2fpeopleapi.readonly\n",
            "\n",
            "Enter your authorization code:\n",
            "··········\n",
            "Mounted at /content/drive\n"
          ],
          "name": "stdout"
        }
      ]
    },
    {
      "cell_type": "code",
      "metadata": {
        "id": "HBYxbuIw2tza",
        "colab_type": "code",
        "colab": {
          "base_uri": "https://localhost:8080/",
          "height": 34
        },
        "outputId": "debc745e-bf31-4970-b85a-544b4d841365"
      },
      "source": [
        "cd drive/My\\ Drive/Poster_final"
      ],
      "execution_count": 3,
      "outputs": [
        {
          "output_type": "stream",
          "text": [
            "/content/drive/My Drive/Poster_final\n"
          ],
          "name": "stdout"
        }
      ]
    },
    {
      "cell_type": "code",
      "metadata": {
        "id": "xJvGA6D63E4m",
        "colab_type": "code",
        "colab": {
          "base_uri": "https://localhost:8080/",
          "height": 722
        },
        "outputId": "ee6d6322-24d2-4951-a6c8-9faa3e56c857"
      },
      "source": [
        "df=pd.read_csv('final3 - final.csv')\n",
        "df.info()"
      ],
      "execution_count": 4,
      "outputs": [
        {
          "output_type": "stream",
          "text": [
            "<class 'pandas.core.frame.DataFrame'>\n",
            "RangeIndex: 3 entries, 0 to 2\n",
            "Data columns (total 35 columns):\n",
            " #   Column                  Non-Null Count  Dtype \n",
            "---  ------                  --------------  ----- \n",
            " 0   template image          3 non-null      object\n",
            " 1   food image              3 non-null      object\n",
            " 2   food_x                  3 non-null      int64 \n",
            " 3   food_y                  3 non-null      int64 \n",
            " 4   food_size               3 non-null      int64 \n",
            " 5   food_des                3 non-null      object\n",
            " 6   food_des_x              3 non-null      int64 \n",
            " 7   food_des_y              3 non-null      int64 \n",
            " 8   food_des_font           3 non-null      object\n",
            " 9   food_des_font_color     3 non-null      object\n",
            " 10  food_des_font_size      3 non-null      int64 \n",
            " 11  Offer_text1             3 non-null      object\n",
            " 12  Offer_text1_x           3 non-null      int64 \n",
            " 13  Offer_text1_y           3 non-null      int64 \n",
            " 14  Offer_text1_font        3 non-null      object\n",
            " 15  Offer_text1_font_color  3 non-null      object\n",
            " 16  Offer_text1_font_size   3 non-null      int64 \n",
            " 17  Offer_text2             3 non-null      object\n",
            " 18  Offer_text2_x           3 non-null      int64 \n",
            " 19  Offer_text2_y           3 non-null      int64 \n",
            " 20  Offer_text2_font        3 non-null      object\n",
            " 21  Offer_text2_font_color  3 non-null      object\n",
            " 22  Offer_text2_font_size   3 non-null      int64 \n",
            " 23  Offer_text3             3 non-null      object\n",
            " 24  Offer_text3_x           3 non-null      int64 \n",
            " 25  Offer_text3_y           3 non-null      int64 \n",
            " 26  Offer_text3_font        3 non-null      object\n",
            " 27  Offer_text3_font_color  3 non-null      object\n",
            " 28  Offer_text3_font_size   3 non-null      int64 \n",
            " 29  contact_us              3 non-null      object\n",
            " 30  contact_us_x            3 non-null      int64 \n",
            " 31  contact_us_y            3 non-null      int64 \n",
            " 32  contact_us_font         3 non-null      object\n",
            " 33  contact_us_font_color   3 non-null      object\n",
            " 34  contact_us_font_size    3 non-null      int64 \n",
            "dtypes: int64(18), object(17)\n",
            "memory usage: 968.0+ bytes\n"
          ],
          "name": "stdout"
        }
      ]
    },
    {
      "cell_type": "code",
      "metadata": {
        "id": "XTIM1SpB3LoD",
        "colab_type": "code",
        "colab": {
          "base_uri": "https://localhost:8080/",
          "height": 307
        },
        "outputId": "a96b9ebc-c524-4b9b-a61b-fce75ee978f0"
      },
      "source": [
        "df.head()"
      ],
      "execution_count": 5,
      "outputs": [
        {
          "output_type": "execute_result",
          "data": {
            "text/html": [
              "<div>\n",
              "<style scoped>\n",
              "    .dataframe tbody tr th:only-of-type {\n",
              "        vertical-align: middle;\n",
              "    }\n",
              "\n",
              "    .dataframe tbody tr th {\n",
              "        vertical-align: top;\n",
              "    }\n",
              "\n",
              "    .dataframe thead th {\n",
              "        text-align: right;\n",
              "    }\n",
              "</style>\n",
              "<table border=\"1\" class=\"dataframe\">\n",
              "  <thead>\n",
              "    <tr style=\"text-align: right;\">\n",
              "      <th></th>\n",
              "      <th>template image</th>\n",
              "      <th>food image</th>\n",
              "      <th>food_x</th>\n",
              "      <th>food_y</th>\n",
              "      <th>food_size</th>\n",
              "      <th>food_des</th>\n",
              "      <th>food_des_x</th>\n",
              "      <th>food_des_y</th>\n",
              "      <th>food_des_font</th>\n",
              "      <th>food_des_font_color</th>\n",
              "      <th>food_des_font_size</th>\n",
              "      <th>Offer_text1</th>\n",
              "      <th>Offer_text1_x</th>\n",
              "      <th>Offer_text1_y</th>\n",
              "      <th>Offer_text1_font</th>\n",
              "      <th>Offer_text1_font_color</th>\n",
              "      <th>Offer_text1_font_size</th>\n",
              "      <th>Offer_text2</th>\n",
              "      <th>Offer_text2_x</th>\n",
              "      <th>Offer_text2_y</th>\n",
              "      <th>Offer_text2_font</th>\n",
              "      <th>Offer_text2_font_color</th>\n",
              "      <th>Offer_text2_font_size</th>\n",
              "      <th>Offer_text3</th>\n",
              "      <th>Offer_text3_x</th>\n",
              "      <th>Offer_text3_y</th>\n",
              "      <th>Offer_text3_font</th>\n",
              "      <th>Offer_text3_font_color</th>\n",
              "      <th>Offer_text3_font_size</th>\n",
              "      <th>contact_us</th>\n",
              "      <th>contact_us_x</th>\n",
              "      <th>contact_us_y</th>\n",
              "      <th>contact_us_font</th>\n",
              "      <th>contact_us_font_color</th>\n",
              "      <th>contact_us_font_size</th>\n",
              "    </tr>\n",
              "  </thead>\n",
              "  <tbody>\n",
              "    <tr>\n",
              "      <th>0</th>\n",
              "      <td>poster2.jpg</td>\n",
              "      <td>burger.jpg</td>\n",
              "      <td>260</td>\n",
              "      <td>290</td>\n",
              "      <td>150</td>\n",
              "      <td>Burger</td>\n",
              "      <td>290</td>\n",
              "      <td>440</td>\n",
              "      <td>LittleLordFontleroyNF.otf</td>\n",
              "      <td>red</td>\n",
              "      <td>45</td>\n",
              "      <td>Limited Time Offer</td>\n",
              "      <td>110</td>\n",
              "      <td>600</td>\n",
              "      <td>pixel-spyder-2-0.ttf</td>\n",
              "      <td>blue</td>\n",
              "      <td>45</td>\n",
              "      <td>______Onlyyy At 120/-______</td>\n",
              "      <td>110</td>\n",
              "      <td>520</td>\n",
              "      <td>samberia.ttf</td>\n",
              "      <td>darkorange</td>\n",
              "      <td>45</td>\n",
              "      <td>Lightening Deal</td>\n",
              "      <td>120</td>\n",
              "      <td>445</td>\n",
              "      <td>marchell.ttf</td>\n",
              "      <td>purple</td>\n",
              "      <td>45</td>\n",
              "      <td>Contact us: 096178 83305  Web: anshul@nanniz.c...</td>\n",
              "      <td>160</td>\n",
              "      <td>650</td>\n",
              "      <td>Lilybud.ttf</td>\n",
              "      <td>green</td>\n",
              "      <td>55</td>\n",
              "    </tr>\n",
              "    <tr>\n",
              "      <th>1</th>\n",
              "      <td>poster3.jpg</td>\n",
              "      <td>burger.jpg</td>\n",
              "      <td>120</td>\n",
              "      <td>450</td>\n",
              "      <td>300</td>\n",
              "      <td>Delicious Burger</td>\n",
              "      <td>420</td>\n",
              "      <td>440</td>\n",
              "      <td>marthiya.ttf</td>\n",
              "      <td>red</td>\n",
              "      <td>55</td>\n",
              "      <td>Lightening Deal</td>\n",
              "      <td>250</td>\n",
              "      <td>330</td>\n",
              "      <td>dayland.ttf</td>\n",
              "      <td>purple</td>\n",
              "      <td>100</td>\n",
              "      <td>Only At 120/-</td>\n",
              "      <td>450</td>\n",
              "      <td>550</td>\n",
              "      <td>samberia.ttf</td>\n",
              "      <td>darkorange</td>\n",
              "      <td>90</td>\n",
              "      <td>Limited Time Offer</td>\n",
              "      <td>110</td>\n",
              "      <td>750</td>\n",
              "      <td>sarllina.ttf</td>\n",
              "      <td>blue</td>\n",
              "      <td>100</td>\n",
              "      <td>Contact us: 096178 83305\"+\"\\n\" + \"Web: anshul@...</td>\n",
              "      <td>70</td>\n",
              "      <td>900</td>\n",
              "      <td>jakarta night - free personal use.ttf</td>\n",
              "      <td>darkgreen</td>\n",
              "      <td>120</td>\n",
              "    </tr>\n",
              "    <tr>\n",
              "      <th>2</th>\n",
              "      <td>poster13.jpg</td>\n",
              "      <td>burger.jpg</td>\n",
              "      <td>60</td>\n",
              "      <td>350</td>\n",
              "      <td>250</td>\n",
              "      <td>Cheese Burger</td>\n",
              "      <td>350</td>\n",
              "      <td>350</td>\n",
              "      <td>salted caramel.ttf</td>\n",
              "      <td>red</td>\n",
              "      <td>70</td>\n",
              "      <td>Lightening Deal</td>\n",
              "      <td>50</td>\n",
              "      <td>50</td>\n",
              "      <td>hatmiwhitedafont.ttf</td>\n",
              "      <td>yellow</td>\n",
              "      <td>130</td>\n",
              "      <td>....Grab Soon....</td>\n",
              "      <td>60</td>\n",
              "      <td>230</td>\n",
              "      <td>pineapple slice.ttf</td>\n",
              "      <td>skyblue</td>\n",
              "      <td>100</td>\n",
              "      <td>Just At 120/-</td>\n",
              "      <td>50</td>\n",
              "      <td>600</td>\n",
              "      <td>lambodia.ttf</td>\n",
              "      <td>orange</td>\n",
              "      <td>120</td>\n",
              "      <td>Download our APP To get more Awesome offers</td>\n",
              "      <td>30</td>\n",
              "      <td>750</td>\n",
              "      <td>hansley.otf</td>\n",
              "      <td>lightgreen</td>\n",
              "      <td>60</td>\n",
              "    </tr>\n",
              "  </tbody>\n",
              "</table>\n",
              "</div>"
            ],
            "text/plain": [
              "  template image  food image  ...  contact_us_font_color  contact_us_font_size\n",
              "0    poster2.jpg  burger.jpg  ...                  green                    55\n",
              "1    poster3.jpg  burger.jpg  ...              darkgreen                   120\n",
              "2   poster13.jpg  burger.jpg  ...             lightgreen                    60\n",
              "\n",
              "[3 rows x 35 columns]"
            ]
          },
          "metadata": {
            "tags": []
          },
          "execution_count": 5
        }
      ]
    },
    {
      "cell_type": "code",
      "metadata": {
        "id": "lHJK4sbU3QGy",
        "colab_type": "code",
        "colab": {
          "base_uri": "https://localhost:8080/",
          "height": 34
        },
        "outputId": "782b7604-8ea8-4ab5-d121-cd666180a899"
      },
      "source": [
        "i = int(input(\"Enter the Value of i:\"))"
      ],
      "execution_count": 9,
      "outputs": [
        {
          "output_type": "stream",
          "text": [
            "Enter the Value of i:2\n"
          ],
          "name": "stdout"
        }
      ]
    },
    {
      "cell_type": "code",
      "metadata": {
        "id": "A4xJNLMJ3ugW",
        "colab_type": "code",
        "colab": {
          "base_uri": "https://localhost:8080/",
          "height": 67
        },
        "outputId": "9275a9de-ac52-46ce-e8f6-61f5f3d536bd"
      },
      "source": [
        "for i in range(3):\n",
        "  print(i)"
      ],
      "execution_count": 10,
      "outputs": [
        {
          "output_type": "stream",
          "text": [
            "0\n",
            "1\n",
            "2\n"
          ],
          "name": "stdout"
        }
      ]
    },
    {
      "cell_type": "code",
      "metadata": {
        "id": "LMh6y1Bt4k4P",
        "colab_type": "code",
        "colab": {
          "base_uri": "https://localhost:8080/",
          "height": 34
        },
        "outputId": "ecb64077-b134-492a-ae26-337942625e47"
      },
      "source": [
        "b = int(input(\"Enter the Offer No. from 1 to 3:\"))\n",
        "i = b-1\n",
        "\n",
        "img = Image.open(df['template image'][i])\n",
        "draw = ImageDraw.Draw(img)\n",
        "\n",
        "def heading(image,Offer_text1,Offer_text1_x,Offer_text1_y,Offer_text1_font,Offer_text1_font_color,Offer_text1_font_size):\n",
        "  draw = ImageDraw.Draw(img)\n",
        "  font = ImageFont.truetype(Offer_text1_font, Offer_text1_font_size)\n",
        "\n",
        "  draw.text((Offer_text1_x, Offer_text1_y),Offer_text1, font=font,fill=Offer_text1_font_color)\n",
        "\n",
        "heading(img,df['Offer_text1'][i],df['Offer_text1_x'][i],df['Offer_text1_y'][i],df['Offer_text1_font'][i],df['Offer_text1_font_color'][i],df['Offer_text1_font_size'][i])\n",
        "\n",
        "def Offer_line1(image,Offer_text2,Offer_text2_x,Offer_text2_y,Offer_text2_font,Offer_text2_font_color,Offer_text2_font_size):\n",
        "  draw = ImageDraw.Draw(img)\n",
        "  font = ImageFont.truetype(Offer_text2_font,Offer_text2_font_size)\n",
        "  draw.text((Offer_text2_x, Offer_text2_y),Offer_text2, font=font,fill=Offer_text2_font_color)\n",
        "\n",
        "Offer_line1(img,df['Offer_text2'][i],df['Offer_text2_x'][i],df['Offer_text2_y'][i],df['Offer_text2_font'][i],df['Offer_text2_font_color'][i],df['Offer_text2_font_size'][i])\n",
        "\n",
        "def Offer_line2(image,food_des,food_des_x,food_des_y,food_des_font,food_des_font_color,food_des_font_size):\n",
        "  draw = ImageDraw.Draw(img)\n",
        "  font = ImageFont.truetype(food_des_font, food_des_font_size)\n",
        "  draw.text((food_des_x, food_des_y),food_des, font=font,fill=food_des_font_color)\n",
        "\n",
        "Offer_line2(img,df['food_des'][i],df['food_des_x'][i],df['food_des_y'][i],df['food_des_font'][i],df['food_des_font_color'][i],df['food_des_font_size'][i])\n",
        "\n",
        "img1 = Image.open(df['food image'][i])\n",
        "draw = ImageDraw.Draw(img)\n",
        "\n",
        "a = df['food_size'][i]\n",
        "size = (a,a)\n",
        "burger = img1.resize(size)\n",
        "\n",
        "def food_images_add(image,food_image,food_x,food_y):\n",
        "  img.paste(food_image, (food_x, food_y))   \n",
        "\n",
        "food_images_add(img,burger,df['food_x'][i],df['food_y'][i])\n",
        "\n",
        "def Offer_line3(image,Offer_text3,Offer_text3_x,Offer_text3_y,Offer_text3_font,Offer_text3_font_color,Offer_text3_font_size):\n",
        "  draw = ImageDraw.Draw(img)\n",
        "  font = ImageFont.truetype(Offer_text3_font, Offer_text3_font_size)\n",
        "  draw.text((Offer_text3_x, Offer_text3_y),Offer_text3, font=font,fill=Offer_text3_font_color)\n",
        "\n",
        "Offer_line3(img,df['Offer_text3'][i],df['Offer_text3_x'][i],df['Offer_text3_y'][i],df['Offer_text3_font'][i],df['Offer_text3_font_color'][i],df['Offer_text3_font_size'][i])\n",
        "\n",
        "def contact_details(image,contact_us,contact_us_x,contact_us_y,contact_us_font,contact_us_font_color,contact_us_font_size):\n",
        "  draw = ImageDraw.Draw(img)\n",
        "  font = ImageFont.truetype(contact_us_font, contact_us_font_size)\n",
        "  contact_us = \"Contact us:\"+ \"\\n\"+ \"096178 83305\"+\"\\n\" + \"Web: anshul@nanniz.com\" +\"\\n\"+\"Download our APP\"\n",
        "  draw.text((contact_us_x, contact_us_y),contact_us, font=font,fill=contact_us_font_color)\n",
        "\n",
        "contact_details(img,df['contact_us'][i],df['contact_us_x'][i],df['contact_us_y'][i],df['contact_us_font'][i],df['contact_us_font_color'][i],df['contact_us_font_size'][i])\n",
        "\n",
        "img.save(\"a_test3.png\")\n"
      ],
      "execution_count": 12,
      "outputs": [
        {
          "output_type": "stream",
          "text": [
            "Enter the Offer No. from 1 to 3:3\n"
          ],
          "name": "stdout"
        }
      ]
    },
    {
      "cell_type": "code",
      "metadata": {
        "id": "2AvRz1IO6fih",
        "colab_type": "code",
        "colab": {}
      },
      "source": [
        ""
      ],
      "execution_count": null,
      "outputs": []
    }
  ]
}